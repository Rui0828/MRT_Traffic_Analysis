{
 "cells": [
  {
   "cell_type": "markdown",
   "id": "31078f81",
   "metadata": {},
   "source": [
    "# 專案：應用於臺北捷運時序資料之深度學習分析框架\n",
    "\n",
    "## 筆記本 01：資料獲取與預處理\n",
    "\n",
    "**目標：**\n",
    "1.  從「臺北市資料大平臺」下載所有月份的 [捷運 OD 流量資料](https://data.taipei/dataset/detail?id=63f31c7e-7fc3-418b-bd82-b95158755b4d)。\n",
    "2.  將所有分散的 CSV 檔案合併成一個單一的 DataFrame。\n",
    "3.  對合併後的資料進行初步的檢視與清理。"
   ]
  },
  {
   "cell_type": "code",
   "execution_count": 1,
   "id": "43c77f0e",
   "metadata": {},
   "outputs": [
    {
     "name": "stdout",
     "output_type": "stream",
     "text": [
      "專案根目錄: c:\\Users\\asd47\\OneDrive - rui0828\\master\\高等人工智慧\\final_project\\MRT_Traffic_Analysis\n",
      "原始碼目錄已加入 sys.path: c:\\Users\\asd47\\OneDrive - rui0828\\master\\高等人工智慧\\final_project\\MRT_Traffic_Analysis\\src\n"
     ]
    }
   ],
   "source": [
    "import os\n",
    "import sys\n",
    "\n",
    "# 將 src 目錄添加到 Python 的模組搜索路徑中\n",
    "# 這樣我們才能導入自己寫的 data_loader 模組\n",
    "project_root = os.path.abspath(os.path.join(os.getcwd(), '..'))\n",
    "src_path = os.path.join(project_root, 'src')\n",
    "if src_path not in sys.path:\n",
    "    sys.path.append(src_path)\n",
    "\n",
    "print(f\"專案根目錄: {project_root}\")\n",
    "print(f\"原始碼目錄已加入 sys.path: {src_path}\")"
   ]
  },
  {
   "cell_type": "markdown",
   "id": "2cf7309a",
   "metadata": {},
   "source": [
    "## 步驟一：下載原始資料\n",
    "\n",
    "此步驟的目標是透過 `src/data_loader.py` 中的 `DataLoader` 類別，自動從臺北市資料大平臺抓取所有月份的 OD 流量 CSV 檔案，並儲存至 `data/raw/` 目錄下。"
   ]
  },
  {
   "cell_type": "code",
   "execution_count": 2,
   "id": "fb6f48e7",
   "metadata": {},
   "outputs": [
    {
     "name": "stdout",
     "output_type": "stream",
     "text": [
      "=== 開始執行最終下載程序 ===\n",
      "正在從 API 獲取資料集資源列表: https://data.taipei/api/v1/dataset/eb481f58-1238-4cff-8caa-fa7bb20cb4f4?scope=resourceAquire&limit=1000\n",
      "成功解析並提取到 100 個資源連結。\n",
      "\n",
      "準備開始下載 100 個檔案至 'c:\\Users\\asd47\\OneDrive - rui0828\\master\\高等人工智慧\\final_project\\MRT_Traffic_Analysis\\data\\raw'...\n"
     ]
    },
    {
     "name": "stderr",
     "output_type": "stream",
     "text": [
      "下載進度: 100%|██████████| 100/100 [16:51<00:00, 10.11s/it]"
     ]
    },
    {
     "name": "stdout",
     "output_type": "stream",
     "text": [
      "\n",
      "所有檔案下載完成。\n",
      "\n",
      "--- 下載結果驗證 ---\n",
      "在 'c:\\Users\\asd47\\OneDrive - rui0828\\master\\高等人工智慧\\final_project\\MRT_Traffic_Analysis\\data\\raw' 目錄中找到 100 個檔案:\n",
      "頭5個檔案: ['201701.csv', '201702.csv', '201703.csv', '201704.csv', '201705.csv']\n",
      "末5個檔案: ['202412.csv', '202501.csv', '202502.csv', '202503.csv', '202504.csv']\n"
     ]
    },
    {
     "name": "stderr",
     "output_type": "stream",
     "text": [
      "\n"
     ]
    }
   ],
   "source": [
    "import os\n",
    "import sys\n",
    "\n",
    "# --- 再次確認環境設定 ---\n",
    "project_root = os.path.abspath(os.path.join(os.getcwd(), '..'))\n",
    "src_path = os.path.join(project_root, 'src')\n",
    "if src_path not in sys.path:\n",
    "    sys.path.append(src_path)\n",
    "    \n",
    "from data_loader import DataLoader\n",
    "\n",
    "# --- 設定正確的參數 ---\n",
    "# 臺北捷運每日分時各站OD流量統計資料: https://data.taipei/dataset/detail?id=63f31c7e-7fc3-418b-bd82-b95158755b4d\n",
    "DATASET_ID = 'eb481f58-1238-4cff-8caa-fa7bb20cb4f4' # API 的 ID 跟 網址上的 ID 會不一樣\n",
    "RAW_DATA_DIR = os.path.join(project_root, 'data', 'raw')\n",
    "\n",
    "# --- 執行下載 ---\n",
    "print(\"=== 開始執行最終下載程序 ===\")\n",
    "loader = DataLoader(dataset_id=DATASET_ID, limit=1000)\n",
    "loader.download_monthly_data(save_dir=RAW_DATA_DIR)\n",
    "\n",
    "# --- 驗證下載結果 ---\n",
    "print(\"\\n--- 下載結果驗證 ---\")\n",
    "try:\n",
    "    downloaded_files = os.listdir(RAW_DATA_DIR)\n",
    "    if downloaded_files:\n",
    "        print(f\"在 '{RAW_DATA_DIR}' 目錄中找到 {len(downloaded_files)} 個檔案:\")\n",
    "        # 列出前5個和後5個檔案作為範例\n",
    "        sorted_files = sorted(downloaded_files)\n",
    "        print(\"頭5個檔案:\", sorted_files[:5])\n",
    "        print(\"末5個檔案:\", sorted_files[-5:])\n",
    "    else:\n",
    "        print(\"目錄為空，請檢查下載過程是否有錯誤訊息。\")\n",
    "except FileNotFoundError:\n",
    "    print(f\"錯誤：找不到目錄 '{RAW_DATA_DIR}'。\")"
   ]
  },
  {
   "cell_type": "markdown",
   "id": "78684e7e",
   "metadata": {},
   "source": [
    "## 步驟二：讀取與合併資料\n",
    "將所有月份的原始 CSV 檔合併成單一 DataFrame，並進行初步檢視。"
   ]
  },
  {
   "cell_type": "code",
   "execution_count": null,
   "id": "72bfa298",
   "metadata": {},
   "outputs": [
    {
     "name": "stdout",
     "output_type": "stream",
     "text": [
      "找到 100 個 CSV 檔案，準備讀取與合併...\n"
     ]
    },
    {
     "name": "stderr",
     "output_type": "stream",
     "text": [
      "正在讀取檔案:  33%|███▎      | 33/100 [01:38<02:43,  2.44s/it]"
     ]
    },
    {
     "name": "stdout",
     "output_type": "stream",
     "text": [
      "讀取檔案 '201909.csv' 時發生錯誤: Error tokenizing data. C error: Calling read(nbytes) on source failed. Try engine='python'.\n"
     ]
    },
    {
     "name": "stderr",
     "output_type": "stream",
     "text": [
      "正在讀取檔案:  36%|███▌      | 36/100 [01:47<03:04,  2.88s/it]"
     ]
    }
   ],
   "source": [
    "from data_processor import load_and_merge_raw_data\n",
    "import pandas as pd\n",
    "\n",
    "# 設定 pandas 顯示選項，以便更好地觀察 DataFrame\n",
    "pd.set_option('display.max_columns', 50)\n",
    "pd.set_option('display.width', 1000)\n",
    "\n",
    "# --- 執行讀取與合併 ---\n",
    "# RAW_DATA_DIR 變數我們在之前的儲存格已經定義過了\n",
    "mrt_df = load_and_merge_raw_data(RAW_DATA_DIR)\n",
    "\n",
    "\n",
    "# --- 初步檢視合併後的 DataFrame ---\n",
    "if not mrt_df.empty:\n",
    "    print(\"\\n--- 合併後 DataFrame 的基本資訊 ---\")\n",
    "    mrt_df.info()\n",
    "    \n",
    "    print(\"\\n\\n--- 資料頭5筆 (Head) ---\")\n",
    "    display(mrt_df.head())\n",
    "    \n",
    "    print(\"\\n\\n--- 資料末5筆 (Tail) ---\")\n",
    "    display(mrt_df.tail())\n",
    "    \n",
    "    print(f\"\\n\\n合併後的總筆數為: {len(mrt_df):,}\")\n",
    "else:\n",
    "    print(\"DataFrame 是空的，請檢查前面的步驟。\")"
   ]
  }
 ],
 "metadata": {
  "kernelspec": {
   "display_name": "base",
   "language": "python",
   "name": "python3"
  },
  "language_info": {
   "codemirror_mode": {
    "name": "ipython",
    "version": 3
   },
   "file_extension": ".py",
   "mimetype": "text/x-python",
   "name": "python",
   "nbconvert_exporter": "python",
   "pygments_lexer": "ipython3",
   "version": "3.11.7"
  }
 },
 "nbformat": 4,
 "nbformat_minor": 5
}
