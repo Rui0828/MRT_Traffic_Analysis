{
 "cells": [
  {
   "cell_type": "markdown",
   "id": "31078f81",
   "metadata": {},
   "source": [
    "# 專案：應用於臺北捷運時序資料之深度學習分析框架\n",
    "\n",
    "## 筆記本 01：資料獲取與預處理\n",
    "\n",
    "**目標：**\n",
    "1.  從「臺北市資料大平臺」下載所有月份的 [捷運 OD 流量資料](https://data.taipei/dataset/detail?id=63f31c7e-7fc3-418b-bd82-b95158755b4d)。\n",
    "2.  將所有分散的 CSV 檔案合併成一個單一的 DataFrame。\n",
    "3.  對合併後的資料進行初步的檢視與清理。"
   ]
  },
  {
   "cell_type": "code",
   "execution_count": 1,
   "id": "43c77f0e",
   "metadata": {},
   "outputs": [
    {
     "name": "stdout",
     "output_type": "stream",
     "text": [
      "專案根目錄: /user_data/MRT_Traffic_Analysis\n",
      "原始碼目錄已加入 sys.path: /user_data/MRT_Traffic_Analysis/src\n"
     ]
    }
   ],
   "source": [
    "import os\n",
    "import sys\n",
    "\n",
    "# 將 src 目錄添加到 Python 的模組搜索路徑中\n",
    "# 這樣我們才能導入自己寫的 data_loader 模組\n",
    "project_root = os.path.abspath(os.path.join(os.getcwd(), '..'))\n",
    "src_path = os.path.join(project_root, 'src')\n",
    "if src_path not in sys.path:\n",
    "    sys.path.append(src_path)\n",
    "\n",
    "print(f\"專案根目錄: {project_root}\")\n",
    "print(f\"原始碼目錄已加入 sys.path: {src_path}\")"
   ]
  },
  {
   "cell_type": "markdown",
   "id": "2cf7309a",
   "metadata": {},
   "source": [
    "## 步驟一：下載原始資料\n",
    "\n",
    "此步驟的目標是透過 `src/data_loader.py` 中的 `DataLoader` 類別，自動從臺北市資料大平臺抓取所有月份的 OD 流量 CSV 檔案，並儲存至 `data/raw/` 目錄下。"
   ]
  },
  {
   "cell_type": "code",
   "execution_count": 2,
   "id": "bcca329a",
   "metadata": {},
   "outputs": [],
   "source": [
    "# --- 設定正確的參數 ---\n",
    "# 臺北捷運每日分時各站OD流量統計資料: https://data.taipei/dataset/detail?id=63f31c7e-7fc3-418b-bd82-b95158755b4d\n",
    "DATASET_ID = 'eb481f58-1238-4cff-8caa-fa7bb20cb4f4' # API 的 ID 跟 網址上的 ID 會不一樣\n",
    "RAW_DATA_DIR = os.path.join(project_root, 'data', 'raw')"
   ]
  },
  {
   "cell_type": "code",
   "execution_count": 3,
   "id": "fb6f48e7",
   "metadata": {},
   "outputs": [],
   "source": [
    "# import os\n",
    "# import sys\n",
    "\n",
    "# # --- 再次確認環境設定 ---\n",
    "# project_root = os.path.abspath(os.path.join(os.getcwd(), '..'))\n",
    "# src_path = os.path.join(project_root, 'src')\n",
    "# if src_path not in sys.path:\n",
    "#     sys.path.append(src_path)\n",
    "    \n",
    "# from data_loader import DataLoader\n",
    "\n",
    "# # --- 執行下載 ---\n",
    "# print(\"=== 開始執行最終下載程序 ===\")\n",
    "# loader = DataLoader(dataset_id=DATASET_ID, limit=1000)\n",
    "# loader.download_monthly_data(save_dir=RAW_DATA_DIR)\n",
    "\n",
    "# # --- 驗證下載結果 ---\n",
    "# print(\"\\n--- 下載結果驗證 ---\")\n",
    "# try:\n",
    "#     downloaded_files = os.listdir(RAW_DATA_DIR)\n",
    "#     if downloaded_files:\n",
    "#         print(f\"在 '{RAW_DATA_DIR}' 目錄中找到 {len(downloaded_files)} 個檔案:\")\n",
    "#         # 列出前5個和後5個檔案作為範例\n",
    "#         sorted_files = sorted(downloaded_files)\n",
    "#         print(\"頭5個檔案:\", sorted_files[:5])\n",
    "#         print(\"末5個檔案:\", sorted_files[-5:])\n",
    "#     else:\n",
    "#         print(\"目錄為空，請檢查下載過程是否有錯誤訊息。\")\n",
    "# except FileNotFoundError:\n",
    "#     print(f\"錯誤：找不到目錄 '{RAW_DATA_DIR}'。\")"
   ]
  },
  {
   "cell_type": "markdown",
   "id": "78684e7e",
   "metadata": {},
   "source": [
    "## 步驟二：讀取與合併資料\n",
    "將所有月份的原始 CSV 檔合併成單一 DataFrame，並進行初步檢視。"
   ]
  },
  {
   "cell_type": "code",
   "execution_count": null,
   "id": "72bfa298",
   "metadata": {},
   "outputs": [
    {
     "name": "stdout",
     "output_type": "stream",
     "text": [
      "找到 100 個 CSV 檔案，準備讀取與合併...\n"
     ]
    },
    {
     "name": "stderr",
     "output_type": "stream",
     "text": [
      "正在讀取檔案: 100%|██████████| 100/100 [03:24<00:00,  2.05s/it]\n"
     ]
    },
    {
     "name": "stdout",
     "output_type": "stream",
     "text": [
      "\n",
      "正在合併所有資料...\n",
      "所有資料已成功合併！\n",
      "\n",
      "--- 合併後 DataFrame 的基本資訊 ---\n",
      "<class 'pandas.core.frame.DataFrame'>\n",
      "RangeIndex: 828071570 entries, 0 to 828071569\n",
      "Data columns (total 5 columns):\n",
      " #   Column  Dtype \n",
      "---  ------  ----- \n",
      " 0   日期      object\n",
      " 1   時段      int64 \n",
      " 2   進站      object\n",
      " 3   出站      object\n",
      " 4   人次      int64 \n",
      "dtypes: int64(2), object(3)\n",
      "memory usage: 30.8+ GB\n",
      "\n",
      "\n",
      "--- 資料頭5筆 (Head) ---\n"
     ]
    },
    {
     "data": {
      "text/html": [
       "<div>\n",
       "<style scoped>\n",
       "    .dataframe tbody tr th:only-of-type {\n",
       "        vertical-align: middle;\n",
       "    }\n",
       "\n",
       "    .dataframe tbody tr th {\n",
       "        vertical-align: top;\n",
       "    }\n",
       "\n",
       "    .dataframe thead th {\n",
       "        text-align: right;\n",
       "    }\n",
       "</style>\n",
       "<table border=\"1\" class=\"dataframe\">\n",
       "  <thead>\n",
       "    <tr style=\"text-align: right;\">\n",
       "      <th></th>\n",
       "      <th>日期</th>\n",
       "      <th>時段</th>\n",
       "      <th>進站</th>\n",
       "      <th>出站</th>\n",
       "      <th>人次</th>\n",
       "    </tr>\n",
       "  </thead>\n",
       "  <tbody>\n",
       "    <tr>\n",
       "      <th>0</th>\n",
       "      <td>2017-01-01</td>\n",
       "      <td>0</td>\n",
       "      <td>松山機場</td>\n",
       "      <td>松山機場</td>\n",
       "      <td>0</td>\n",
       "    </tr>\n",
       "    <tr>\n",
       "      <th>1</th>\n",
       "      <td>2017-01-01</td>\n",
       "      <td>0</td>\n",
       "      <td>松山機場</td>\n",
       "      <td>中山國中</td>\n",
       "      <td>0</td>\n",
       "    </tr>\n",
       "    <tr>\n",
       "      <th>2</th>\n",
       "      <td>2017-01-01</td>\n",
       "      <td>0</td>\n",
       "      <td>松山機場</td>\n",
       "      <td>南京復興</td>\n",
       "      <td>0</td>\n",
       "    </tr>\n",
       "    <tr>\n",
       "      <th>3</th>\n",
       "      <td>2017-01-01</td>\n",
       "      <td>0</td>\n",
       "      <td>松山機場</td>\n",
       "      <td>忠孝復興</td>\n",
       "      <td>0</td>\n",
       "    </tr>\n",
       "    <tr>\n",
       "      <th>4</th>\n",
       "      <td>2017-01-01</td>\n",
       "      <td>0</td>\n",
       "      <td>松山機場</td>\n",
       "      <td>大安</td>\n",
       "      <td>0</td>\n",
       "    </tr>\n",
       "  </tbody>\n",
       "</table>\n",
       "</div>"
      ],
      "text/plain": [
       "           日期  時段    進站    出站  人次\n",
       "0  2017-01-01   0  松山機場  松山機場   0\n",
       "1  2017-01-01   0  松山機場  中山國中   0\n",
       "2  2017-01-01   0  松山機場  南京復興   0\n",
       "3  2017-01-01   0  松山機場  忠孝復興   0\n",
       "4  2017-01-01   0  松山機場    大安   0"
      ]
     },
     "metadata": {},
     "output_type": "display_data"
    },
    {
     "name": "stdout",
     "output_type": "stream",
     "text": [
      "\n",
      "\n",
      "--- 資料末5筆 (Tail) ---\n"
     ]
    },
    {
     "data": {
      "text/html": [
       "<div>\n",
       "<style scoped>\n",
       "    .dataframe tbody tr th:only-of-type {\n",
       "        vertical-align: middle;\n",
       "    }\n",
       "\n",
       "    .dataframe tbody tr th {\n",
       "        vertical-align: top;\n",
       "    }\n",
       "\n",
       "    .dataframe thead th {\n",
       "        text-align: right;\n",
       "    }\n",
       "</style>\n",
       "<table border=\"1\" class=\"dataframe\">\n",
       "  <thead>\n",
       "    <tr style=\"text-align: right;\">\n",
       "      <th></th>\n",
       "      <th>日期</th>\n",
       "      <th>時段</th>\n",
       "      <th>進站</th>\n",
       "      <th>出站</th>\n",
       "      <th>人次</th>\n",
       "    </tr>\n",
       "  </thead>\n",
       "  <tbody>\n",
       "    <tr>\n",
       "      <th>828071565</th>\n",
       "      <td>2025-04-30</td>\n",
       "      <td>23</td>\n",
       "      <td>新北產業園區</td>\n",
       "      <td>徐匯中學</td>\n",
       "      <td>0</td>\n",
       "    </tr>\n",
       "    <tr>\n",
       "      <th>828071566</th>\n",
       "      <td>2025-04-30</td>\n",
       "      <td>23</td>\n",
       "      <td>新北產業園區</td>\n",
       "      <td>三和國中</td>\n",
       "      <td>0</td>\n",
       "    </tr>\n",
       "    <tr>\n",
       "      <th>828071567</th>\n",
       "      <td>2025-04-30</td>\n",
       "      <td>23</td>\n",
       "      <td>新北產業園區</td>\n",
       "      <td>三重國小</td>\n",
       "      <td>2</td>\n",
       "    </tr>\n",
       "    <tr>\n",
       "      <th>828071568</th>\n",
       "      <td>2025-04-30</td>\n",
       "      <td>23</td>\n",
       "      <td>新北產業園區</td>\n",
       "      <td>迴龍</td>\n",
       "      <td>3</td>\n",
       "    </tr>\n",
       "    <tr>\n",
       "      <th>828071569</th>\n",
       "      <td>2025-04-30</td>\n",
       "      <td>23</td>\n",
       "      <td>新北產業園區</td>\n",
       "      <td>丹鳳</td>\n",
       "      <td>1</td>\n",
       "    </tr>\n",
       "  </tbody>\n",
       "</table>\n",
       "</div>"
      ],
      "text/plain": [
       "                   日期  時段      進站    出站  人次\n",
       "828071565  2025-04-30  23  新北產業園區  徐匯中學   0\n",
       "828071566  2025-04-30  23  新北產業園區  三和國中   0\n",
       "828071567  2025-04-30  23  新北產業園區  三重國小   2\n",
       "828071568  2025-04-30  23  新北產業園區    迴龍   3\n",
       "828071569  2025-04-30  23  新北產業園區    丹鳳   1"
      ]
     },
     "metadata": {},
     "output_type": "display_data"
    },
    {
     "name": "stdout",
     "output_type": "stream",
     "text": [
      "\n",
      "\n",
      "合併後的總筆數為: 828,071,570\n"
     ]
    },
    {
     "ename": "",
     "evalue": "",
     "output_type": "error",
     "traceback": [
      "\u001b[1;31mThe Kernel crashed while executing code in the current cell or a previous cell. \n",
      "\u001b[1;31mPlease review the code in the cell(s) to identify a possible cause of the failure. \n",
      "\u001b[1;31mClick <a href='https://aka.ms/vscodeJupyterKernelCrash'>here</a> for more info. \n",
      "\u001b[1;31mView Jupyter <a href='command:jupyter.viewOutput'>log</a> for further details."
     ]
    }
   ],
   "source": [
    "from data_processor import load_and_merge_raw_data\n",
    "import pandas as pd\n",
    "\n",
    "# 設定 pandas 顯示選項，以便更好地觀察 DataFrame\n",
    "pd.set_option('display.max_columns', 50)\n",
    "pd.set_option('display.width', 1000)\n",
    "\n",
    "# --- 執行讀取與合併 ---\n",
    "# RAW_DATA_DIR 變數我們在之前的儲存格已經定義過了\n",
    "mrt_df = load_and_merge_raw_data(RAW_DATA_DIR)\n",
    "\n",
    "\n",
    "# --- 初步檢視合併後的 DataFrame ---\n",
    "if not mrt_df.empty:\n",
    "    print(\"\\n--- 合併後 DataFrame 的基本資訊 ---\")\n",
    "    mrt_df.info()\n",
    "    \n",
    "    print(\"\\n\\n--- 資料頭5筆 (Head) ---\")\n",
    "    display(mrt_df.head())\n",
    "    \n",
    "    print(\"\\n\\n--- 資料末5筆 (Tail) ---\")\n",
    "    display(mrt_df.tail())\n",
    "    \n",
    "    print(f\"\\n\\n合併後的總筆數為: {len(mrt_df):,}\")\n",
    "else:\n",
    "    print(\"DataFrame 是空的，請檢查前面的步驟。\")"
   ]
  },
  {
   "cell_type": "markdown",
   "id": "523248c0",
   "metadata": {},
   "source": [
    "## 步驟三：清理、轉換與彙總\n",
    "\n",
    "將 8.28 億筆的原始資料進行以下處理：\n",
    "1.  **建立時間戳**：將 `日期` 和 `時段` 欄位合併為標準的 `datetime` 格式。\n",
    "2.  **優化資料型態**：將字串欄位轉換為 `category` 以大幅節省記憶體。\n",
    "3.  **彙總資料**：將資料從「起訖站」層級，彙總到目標站點（臺北車站）的每小時進出站人次。"
   ]
  },
  {
   "cell_type": "code",
   "execution_count": null,
   "id": "e374b920",
   "metadata": {},
   "outputs": [
    {
     "name": "stdout",
     "output_type": "stream",
     "text": [
      "=== 開始資料清理與轉換 ===\n",
      "步驟 1/4: 建立標準時間戳...\n"
     ]
    }
   ],
   "source": [
    "from data_processor import process_and_aggregate_data\n",
    "\n",
    "# --- 設定分析目標 ---\n",
    "# 我們選擇 '臺北車站' 作為預測目標\n",
    "TARGET_STATION = '臺北車站'\n",
    "\n",
    "# --- 執行處理與彙總 ---\n",
    "# mrt_df 是我們上一步合併好的巨大 DataFrame\n",
    "if 'mrt_df' in locals() and not mrt_df.empty:\n",
    "    station_df = process_and_aggregate_data(mrt_df, target_station=TARGET_STATION)\n",
    "\n",
    "    # --- 檢視最終彙總的 DataFrame ---\n",
    "    print(\"\\n--- 最終彙總後 DataFrame 的基本資訊 ---\")\n",
    "    station_df.info()\n",
    "\n",
    "    print(\"\\n\\n--- 彙總後資料頭5筆 (Head) ---\")\n",
    "    display(station_df.head())\n",
    "\n",
    "    print(\"\\n\\n--- 彙總後資料末5筆 (Tail) ---\")\n",
    "    display(station_df.tail())\n",
    "else:\n",
    "    print(\"錯誤：找不到名為 'mrt_df' 的 DataFrame，請確認上一步已成功執行。\")"
   ]
  }
 ],
 "metadata": {
  "kernelspec": {
   "display_name": "Python 3",
   "language": "python",
   "name": "python3"
  },
  "language_info": {
   "codemirror_mode": {
    "name": "ipython",
    "version": 3
   },
   "file_extension": ".py",
   "mimetype": "text/x-python",
   "name": "python",
   "nbconvert_exporter": "python",
   "pygments_lexer": "ipython3",
   "version": "3.11.10"
  }
 },
 "nbformat": 4,
 "nbformat_minor": 5
}
